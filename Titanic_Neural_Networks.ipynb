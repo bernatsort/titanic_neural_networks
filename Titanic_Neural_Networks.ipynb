{
  "nbformat": 4,
  "nbformat_minor": 0,
  "metadata": {
    "colab": {
      "provenance": [],
      "authorship_tag": "ABX9TyP1V1y11cDQviH4bgBcsF4T",
      "include_colab_link": true
    },
    "kernelspec": {
      "name": "python3",
      "display_name": "Python 3"
    },
    "language_info": {
      "name": "python"
    },
    "accelerator": "GPU"
  },
  "cells": [
    {
      "cell_type": "markdown",
      "metadata": {
        "id": "view-in-github",
        "colab_type": "text"
      },
      "source": [
        "<a href=\"https://colab.research.google.com/github/bernatsort/titanic_neural_networks/blob/main/Titanic_Neural_Networks.ipynb\" target=\"_parent\"><img src=\"https://colab.research.google.com/assets/colab-badge.svg\" alt=\"Open In Colab\"/></a>"
      ]
    },
    {
      "cell_type": "code",
      "metadata": {
        "colab": {
          "base_uri": "https://localhost:8080/",
          "height": 451
        },
        "id": "MKzydK5b3Tko",
        "outputId": "5798b78c-8716-4520-e565-2b1562ce665d"
      },
      "source": [
        "import pandas as pd\n",
        "\n",
        "df = pd.read_csv('train.csv')\n",
        "# df_test = pd.read_csv('test.csv')\n",
        "df.sample(5)"
      ],
      "execution_count": null,
      "outputs": [
        {
          "output_type": "execute_result",
          "data": {
            "text/html": [
              "<div>\n",
              "<style scoped>\n",
              "    .dataframe tbody tr th:only-of-type {\n",
              "        vertical-align: middle;\n",
              "    }\n",
              "\n",
              "    .dataframe tbody tr th {\n",
              "        vertical-align: top;\n",
              "    }\n",
              "\n",
              "    .dataframe thead th {\n",
              "        text-align: right;\n",
              "    }\n",
              "</style>\n",
              "<table border=\"1\" class=\"dataframe\">\n",
              "  <thead>\n",
              "    <tr style=\"text-align: right;\">\n",
              "      <th></th>\n",
              "      <th>PassengerId</th>\n",
              "      <th>Survived</th>\n",
              "      <th>Pclass</th>\n",
              "      <th>Name</th>\n",
              "      <th>Sex</th>\n",
              "      <th>Age</th>\n",
              "      <th>SibSp</th>\n",
              "      <th>Parch</th>\n",
              "      <th>Ticket</th>\n",
              "      <th>Fare</th>\n",
              "      <th>Cabin</th>\n",
              "      <th>Embarked</th>\n",
              "    </tr>\n",
              "  </thead>\n",
              "  <tbody>\n",
              "    <tr>\n",
              "      <th>582</th>\n",
              "      <td>583</td>\n",
              "      <td>0</td>\n",
              "      <td>2</td>\n",
              "      <td>Downton, Mr. William James</td>\n",
              "      <td>male</td>\n",
              "      <td>54.0</td>\n",
              "      <td>0</td>\n",
              "      <td>0</td>\n",
              "      <td>28403</td>\n",
              "      <td>26.0000</td>\n",
              "      <td>NaN</td>\n",
              "      <td>S</td>\n",
              "    </tr>\n",
              "    <tr>\n",
              "      <th>194</th>\n",
              "      <td>195</td>\n",
              "      <td>1</td>\n",
              "      <td>1</td>\n",
              "      <td>Brown, Mrs. James Joseph (Margaret Tobin)</td>\n",
              "      <td>female</td>\n",
              "      <td>44.0</td>\n",
              "      <td>0</td>\n",
              "      <td>0</td>\n",
              "      <td>PC 17610</td>\n",
              "      <td>27.7208</td>\n",
              "      <td>B4</td>\n",
              "      <td>C</td>\n",
              "    </tr>\n",
              "    <tr>\n",
              "      <th>509</th>\n",
              "      <td>510</td>\n",
              "      <td>1</td>\n",
              "      <td>3</td>\n",
              "      <td>Lang, Mr. Fang</td>\n",
              "      <td>male</td>\n",
              "      <td>26.0</td>\n",
              "      <td>0</td>\n",
              "      <td>0</td>\n",
              "      <td>1601</td>\n",
              "      <td>56.4958</td>\n",
              "      <td>NaN</td>\n",
              "      <td>S</td>\n",
              "    </tr>\n",
              "    <tr>\n",
              "      <th>103</th>\n",
              "      <td>104</td>\n",
              "      <td>0</td>\n",
              "      <td>3</td>\n",
              "      <td>Johansson, Mr. Gustaf Joel</td>\n",
              "      <td>male</td>\n",
              "      <td>33.0</td>\n",
              "      <td>0</td>\n",
              "      <td>0</td>\n",
              "      <td>7540</td>\n",
              "      <td>8.6542</td>\n",
              "      <td>NaN</td>\n",
              "      <td>S</td>\n",
              "    </tr>\n",
              "    <tr>\n",
              "      <th>553</th>\n",
              "      <td>554</td>\n",
              "      <td>1</td>\n",
              "      <td>3</td>\n",
              "      <td>Leeni, Mr. Fahim (\"Philip Zenni\")</td>\n",
              "      <td>male</td>\n",
              "      <td>22.0</td>\n",
              "      <td>0</td>\n",
              "      <td>0</td>\n",
              "      <td>2620</td>\n",
              "      <td>7.2250</td>\n",
              "      <td>NaN</td>\n",
              "      <td>C</td>\n",
              "    </tr>\n",
              "  </tbody>\n",
              "</table>\n",
              "</div>"
            ],
            "text/plain": [
              "     PassengerId  Survived  Pclass  ...     Fare Cabin  Embarked\n",
              "582          583         0       2  ...  26.0000   NaN         S\n",
              "194          195         1       1  ...  27.7208    B4         C\n",
              "509          510         1       3  ...  56.4958   NaN         S\n",
              "103          104         0       3  ...   8.6542   NaN         S\n",
              "553          554         1       3  ...   7.2250   NaN         C\n",
              "\n",
              "[5 rows x 12 columns]"
            ]
          },
          "metadata": {},
          "execution_count": 4
        }
      ]
    },
    {
      "cell_type": "code",
      "metadata": {
        "colab": {
          "base_uri": "https://localhost:8080/"
        },
        "id": "s2fyOICB2-3i",
        "outputId": "486c8830-2c43-470e-88b2-f68cf655cb32"
      },
      "source": [
        "import pandas as pd\n",
        "# Split the data into our train and test or train and validation data sets. \n",
        "# we use sklearn (library) and access to model_selection (the module) \n",
        "# to get the function train_test_split \n",
        "from sklearn.model_selection import train_test_split\n",
        "# pickle is really useful for saving our model (all the parameters that are being saved).\n",
        "import pickle\n",
        "from sklearn.ensemble import RandomForestClassifier\n",
        "from sklearn.metrics import accuracy_score \n",
        "\n",
        "\n",
        "# Load the .csv\n",
        "df = pd.read_csv('train.csv')\n",
        "\n",
        "# The name is very long, so we can use the title: \n",
        "# So that might be a helpful indicator to whether someone survived or not with: Mr. and Mrs., Miss or other ones like that. \n",
        "def get_title(name):\n",
        "    if '.' in name:\n",
        "        return name.split(',')[1].split('.')[0].strip()\n",
        "    else:\n",
        "        return 'Unknown'\n",
        "\n",
        "# There are a lot of titles. We should condense or reduce it.\n",
        "def shorter_titles(x):\n",
        "    title = x[\"Title\"]\n",
        "    # We can group those into Officer\n",
        "    if title in ['Capt', 'Col', 'Major']:\n",
        "        return 'Officer'\n",
        "    # There are some for royalty: \n",
        "    elif title in ['Jonkheer', 'Don', 'the Countess', 'Dona', 'Lady', 'Sir']:\n",
        "        return 'Royalty'\n",
        "    elif title == 'Mme':\n",
        "        return 'Mrs'\n",
        "    elif title in ['Mlle', 'Ms']:\n",
        "        return 'Miss'\n",
        "    else: \n",
        "        return title\n",
        "    \n",
        "    \n",
        "    \n",
        "# we're going to be taking the actual titles from the names, \n",
        "# so we're going to be creating a new column and that will contain the only the titles from the names\n",
        "df['Title'] = df['Name'].map(lambda x: get_title(x))\n",
        "# apply: apply this function to all of the values in this column \n",
        "# axis=1 --> go down the column, not go along a row. \n",
        "df['Title'] = df.apply(shorter_titles, axis=1)\n",
        "# getting the IDs\n",
        "# ids = df['PassengerId']\n",
        "\n",
        "\n",
        "# In this column, fill any of the NA or not applicable values, \n",
        "# and I just want to fill those with the median.\n",
        "# inplace=True --> make that change happen.\n",
        "df['Age'].fillna(df['Age'].median(), inplace=True)\n",
        "df['Fare'].fillna(df['Fare'].median(), inplace=True)\n",
        "df['Embarked'].fillna(\"S\", inplace=True)\n",
        "# For 'Cabin', 'Ticket', 'Name'  I'm just going to be dropping it simply because \n",
        "# there were so many NA values, it is not very usefull, and we already have the title, respectively. \n",
        "df.drop(\"Cabin\", axis=1, inplace=True)\n",
        "df.drop(\"Ticket\", axis=1, inplace=True)\n",
        "df.drop(\"Name\", axis=1, inplace=True)\n",
        "# We have to change our categorical values into numeric values \n",
        "# because with our machine learning model, everything has to be a number.\n",
        "df.Sex.replace(('male','female'), (0,1), inplace = True)\n",
        "df.Embarked.replace(('S','C','Q'), (0,1,2), inplace = True)\n",
        "df.Title.replace(('Mr','Miss','Mrs','Master','Dr','Rev','Officer','Royalty'), (0,1,2,3,4,5,6,7), inplace = True)\n",
        "\n",
        "\n",
        "\n",
        "# Split the data frame into X and Y\n",
        "# Y: dependent variable\n",
        "y = df['Survived']\n",
        "# X: independent variable\n",
        "# df.drop: I take all the data frame except the columns I've dropped. \n",
        "# axis = 1: I want to drop the whole column, not the row.\n",
        "X = df.drop(['Survived', 'PassengerId'], axis=1)\n",
        "# First of all, we're creating variables.\n",
        "    # (write them in this order)\n",
        "X_train, X_test, y_train, y_test = train_test_split(X, y, test_size=0.1)\n",
        "\n",
        "# Store the model (randomforest)\n",
        "randomforest = RandomForestClassifier()\n",
        "# .fit(): I have my model. It doesn't have any parameters. It hasn't ever seen any data.\n",
        "#         Now I want you to train it. It's going to be essentially training.\n",
        "randomforest.fit(X_train, y_train)\n",
        "# I want make predictions, and see if my y validation is accurate or not.\n",
        "y_pred = randomforest.predict(X_test)\n",
        "\n",
        "# Calculating the accuracy: taking an accuracy score.\n",
        "# Putting in the y predictions, comparing them to the actual ground truth, \n",
        "# which is what we have in the data (y_test). \n",
        "acc_randomforest = round(accuracy_score(y_pred, y_test)*100, 2)\n",
        "# Print out the accuracy \n",
        "print(\"Accuracy: {}\".format(acc_randomforest))\n",
        "\n"
      ],
      "execution_count": null,
      "outputs": [
        {
          "output_type": "stream",
          "name": "stdout",
          "text": [
            "Accuracy: 77.78\n"
          ]
        }
      ]
    },
    {
      "cell_type": "markdown",
      "metadata": {
        "id": "O414Kq5t5Lw3"
      },
      "source": [
        "### Optimized titanic neural network \n"
      ]
    },
    {
      "cell_type": "code",
      "metadata": {
        "id": "JkcHzxPkaJMn"
      },
      "source": [
        "from keras.models import Sequential\n",
        "from keras.layers import Dense, Dropout\n",
        "import matplotlib.pyplot as plt\n",
        "\n",
        "epochs=500\n",
        "batch_size = 50 \n",
        "verbose = 1\n",
        "validation_split = 0.06\n",
        "\n",
        "\n",
        "model = Sequential()\n",
        "model.add(Dense(32, activation='relu', input_shape=(8,)))\n",
        "model.add(Dense(64, activation='relu'))\n",
        "model.add(Dense(128, activation='relu'))\n",
        "model.add(Dense(64, activation='relu'))\n",
        "model.add(Dense(32, activation='relu'))\n",
        "model.add(Dense(1, activation='sigmoid'))\n",
        " \n",
        "# this metrics key in the following line has to match train.history below\n",
        "model.compile(optimizer='adam', loss='binary_crossentropy', metrics=['accuracy']) \n",
        " \n",
        "model_train = model.fit(X, y, epochs=epochs, batch_size=batch_size, verbose=verbose, validation_split=validation_split)\n",
        " \n",
        "plt.plot(model_train.history['accuracy'], label='train')\n",
        "plt.plot(model_train.history['val_accuracy'], label='test')\n",
        "plt.title('Model accuracy')\n",
        "plt.xlabel('Epoch number')\n",
        "plt.ylabel('Accuracy')\n",
        "plt.legend(loc='lower right')\n",
        "plt.show()"
      ],
      "execution_count": null,
      "outputs": []
    },
    {
      "cell_type": "markdown",
      "metadata": {
        "id": "Qc01EJAD_2ku"
      },
      "source": [
        "\n",
        "##### Adding dropout layers to reduce overfitting"
      ]
    },
    {
      "cell_type": "code",
      "metadata": {
        "id": "Xr8gYzUc5dqz"
      },
      "source": [
        "from keras.models import Sequential\n",
        "from keras.layers import Dense, Dropout\n",
        "import matplotlib.pyplot as plt\n",
        "\n",
        "epochs=500\n",
        "batch_size = 50 \n",
        "verbose = 1 \n",
        "validation_split = 0.06\n",
        "\n",
        "\n",
        "model = Sequential()\n",
        "model.add(Dense(32, activation='relu', input_shape=(8,)))\n",
        "model.add(Dropout(rate=0.2))\n",
        "model.add(Dense(64, activation='relu'))\n",
        "model.add(Dropout(rate=0.2))\n",
        "model.add(Dense(128, activation='relu'))\n",
        "model.add(Dropout(rate=0.2))\n",
        "model.add(Dense(64, activation='relu'))\n",
        "model.add(Dropout(rate=0.2))\n",
        "model.add(Dense(32, activation='relu'))\n",
        "model.add(Dense(1, activation='sigmoid'))\n",
        " \n",
        "# this metrics key in the following line has to match train.history below\n",
        "model.compile(optimizer='adam', loss='binary_crossentropy', metrics=['accuracy']) \n",
        " \n",
        "model_train = model.fit(X, y, epochs=epochs, batch_size=batch_size, verbose=verbose, validation_split=validation_split)\n",
        " \n",
        "plt.plot(model_train.history['accuracy'], label='train')\n",
        "plt.plot(model_train.history['val_accuracy'], label='test')\n",
        "plt.title('Model accuracy')\n",
        "plt.xlabel('Epoch number')\n",
        "plt.ylabel('Accuracy')\n",
        "plt.legend(loc='lower right')\n",
        "plt.show()"
      ],
      "execution_count": null,
      "outputs": []
    },
    {
      "cell_type": "markdown",
      "metadata": {
        "id": "3k15mELIA0Q6"
      },
      "source": [
        "##### Reducing the complexity of the model \n"
      ]
    },
    {
      "cell_type": "code",
      "metadata": {
        "id": "Ws4PkmLXA5o1"
      },
      "source": [
        "from keras.models import Sequential\n",
        "from keras.layers import Dense, Dropout\n",
        "import matplotlib.pyplot as plt\n",
        "\n",
        "epochs=500\n",
        "batch_size = 50 \n",
        "verbose = 1\n",
        "validation_split = 0.06\n",
        "\n",
        "\n",
        "model = Sequential()\n",
        "model.add(Dense(32, activation='relu', input_shape=(8,)))\n",
        "model.add(Dropout(rate=0.1))\n",
        "model.add(Dense(64, activation='relu'))\n",
        "model.add(Dropout(rate=0.1))\n",
        "model.add(Dense(64, activation='relu'))\n",
        "model.add(Dropout(rate=0.1))\n",
        "model.add(Dense(64, activation='relu'))\n",
        "model.add(Dropout(rate=0.1))\n",
        "model.add(Dense(32, activation='relu'))\n",
        "model.add(Dense(1, activation='sigmoid'))\n",
        " \n",
        "# this metrics key in the following line has to match train.history below\n",
        "model.compile(optimizer='adam', loss='binary_crossentropy', metrics=['accuracy']) \n",
        " \n",
        "model_train = model.fit(X, y, epochs=epochs, batch_size=batch_size, verbose=verbose, validation_split=validation_split)\n",
        " \n",
        "plt.plot(model_train.history['accuracy'], label='train')\n",
        "plt.plot(model_train.history['val_accuracy'], label='test')\n",
        "plt.title('Model accuracy')\n",
        "plt.xlabel('Epoch number')\n",
        "plt.ylabel('Accuracy')\n",
        "plt.legend(loc='lower right')\n",
        "plt.show()"
      ],
      "execution_count": null,
      "outputs": []
    },
    {
      "cell_type": "markdown",
      "metadata": {
        "id": "EYqHKYhCMRlh"
      },
      "source": [
        "#### Saving the model"
      ]
    },
    {
      "cell_type": "code",
      "metadata": {
        "colab": {
          "base_uri": "https://localhost:8080/",
          "height": 295
        },
        "id": "9mC8IyPaMKFU",
        "outputId": "a1581ae6-35db-4063-c5f2-52ba6ccc1a9d"
      },
      "source": [
        "from keras.models import Sequential\n",
        "from keras.layers import Dense, Dropout\n",
        "import matplotlib.pyplot as plt\n",
        "\n",
        "epochs=500\n",
        "batch_size = 50 \n",
        "verbose = 0\n",
        "validation_split = 0.06\n",
        "\n",
        "\n",
        "model = Sequential()\n",
        "model.add(Dense(32, activation='relu', input_shape=(8,)))\n",
        "model.add(Dropout(rate=0.2))\n",
        "model.add(Dense(64, activation='relu'))\n",
        "model.add(Dropout(rate=0.2))\n",
        "model.add(Dense(128, activation='relu'))\n",
        "model.add(Dropout(rate=0.2))\n",
        "model.add(Dense(64, activation='relu'))\n",
        "model.add(Dropout(rate=0.2))\n",
        "model.add(Dense(32, activation='relu'))\n",
        "model.add(Dense(1, activation='sigmoid'))\n",
        " \n",
        "# this metrics key in the following line has to match train.history below\n",
        "model.compile(optimizer='adam', loss='binary_crossentropy', metrics=['accuracy']) \n",
        " \n",
        "model_train = model.fit(X, y, epochs=epochs, batch_size=batch_size, verbose=verbose, validation_split=validation_split)\n",
        " \n",
        "plt.plot(model_train.history['accuracy'], label='train')\n",
        "plt.plot(model_train.history['val_accuracy'], label='test')\n",
        "plt.title('Model accuracy')\n",
        "plt.xlabel('Epoch number')\n",
        "plt.ylabel('Accuracy')\n",
        "plt.legend(loc='lower right')\n",
        "plt.show()\n",
        "\n",
        "# To save the model once it has been trained \n",
        "model.save('titanic_NN.h5')"
      ],
      "execution_count": null,
      "outputs": [
        {
          "output_type": "display_data",
          "data": {
            "image/png": "[encoded data removed]",
            "text/plain": [
              "<Figure size 432x288 with 1 Axes>"
            ]
          },
          "metadata": {
            "needs_background": "light"
          }
        }
      ]
    },
    {
      "cell_type": "markdown",
      "metadata": {
        "id": "kB8KPN2hOKaS"
      },
      "source": [
        "#### Load the model "
      ]
    },
    {
      "cell_type": "code",
      "metadata": {
        "id": "w-1KarirMHSZ"
      },
      "source": [
        "# when we're playing around with neural networks we need to put it into the correct data format, which is a numpy array.\n",
        "import numpy as np\n",
        "# So when you're saving a model, you don't actually need to import anything but load the model (load_model).\n",
        "from keras.models import load_model\n",
        "# Load up the model \n",
        "model_predict = load_model('titanic_NN.h5')"
      ],
      "execution_count": null,
      "outputs": []
    },
    {
      "cell_type": "markdown",
      "metadata": {
        "id": "WM6yo4EWORpa"
      },
      "source": [
        "#### Make a prediction"
      ]
    },
    {
      "cell_type": "code",
      "metadata": {
        "colab": {
          "base_uri": "https://localhost:8080/"
        },
        "id": "9_0CF4Q9OCpl",
        "outputId": "3ccd43f5-43d3-4833-f37b-160ac36151dd"
      },
      "source": [
        "# When we make predictions through Keras, we need to cast that into an numpy array:\n",
        "    # Pclass Sex Age SibSp Parch Fare Embarked Title\n",
        "x_example = np.array([[1,1,30,2,2,50,1,2]])\n",
        "\n",
        "# Run a prediction\n",
        "prediction_num = model_predict.predict(x_example)\n",
        "print(prediction_num)\n",
        "\n",
        "if prediction_num < 0.5:\n",
        "    prediction = 'Not survived'\n",
        "else: \n",
        "    prediction = 'Survived'\n",
        "    \n",
        "print(prediction)"
      ],
      "execution_count": null,
      "outputs": [
        {
          "output_type": "stream",
          "name": "stdout",
          "text": [
            "[[0.9749645]]\n",
            "Survived\n"
          ]
        }
      ]
    }
  ]
}